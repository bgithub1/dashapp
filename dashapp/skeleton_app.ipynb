{
 "cells": [
  {
   "cell_type": "code",
   "execution_count": null,
   "metadata": {},
   "outputs": [],
   "source": [
    "import sys,os\n",
    "if  not os.path.abspath('./') in sys.path:\n",
    "    sys.path.append(os.path.abspath('./'))\n",
    "if  not os.path.abspath('../') in sys.path:\n",
    "    sys.path.append(os.path.abspath('../'))\n",
    "\n",
    "import dashapp\n",
    "# import dash\n",
    "import dash_html_components as html\n",
    "import dash_core_components as dcc\n",
    "import pandas as pd\n",
    "import pdb\n",
    "import copy\n",
    "pn = dashapp.pn\n",
    "pnnc = dashapp.pnnc"
   ]
  },
  {
   "cell_type": "markdown",
   "metadata": {},
   "source": [
    "### Show a simple example with 3 rows with varying columns in each row"
   ]
  },
  {
   "cell_type": "code",
   "execution_count": null,
   "metadata": {
    "scrolled": true
   },
   "outputs": [],
   "source": [
    "if __name__=='__main__':\n",
    "    dap = dashapp.DashApp()\n",
    "    # row 1\n",
    "    r1 = dashapp.multi_row_panel([dcc.Markdown(\"## row 1\")])\n",
    "    # row 2 \n",
    "    #   col 1\n",
    "    r2c1r1 = dashapp.nopanel_cell(dcc.Markdown(\"### row 2 col 1 row 1\"))\n",
    "    r2c1r2 = dashapp.nopanel_cell(dcc.Markdown(\"### row 2 col 1 row 2\"))\n",
    "    r2c1r3 = dashapp.nopanel_cell(dcc.Markdown(\"### row 2 col 1 row 3\"))\n",
    "    r2c1 = dashapp.multi_row_panel([r2c1r1,r2c1r2,r2c1r3],panel_background_color='#A6B2E2')\n",
    "    #   col 2\n",
    "    r2c2r1 = dashapp.panel_cell(dcc.Markdown(\"### row 2 col 2 row 1\"),div_id='r2c2r1')\n",
    "    r2c2r2 = dashapp.panel_cell(dcc.Markdown(\"# row 2 col 2 row 2\"))\n",
    "    r2c2 = dashapp.multi_row_panel([r2c2r1,r2c2r2],grid_template='3fr 1fr',child_class=None)\n",
    "    # both cols\n",
    "    r2 = dashapp.multi_column_panel([r2c1,r2c2],grid_template='1fr 4fr',parent_class=None,child_class=None)\n",
    "\n",
    "    # row 3\n",
    "    r3c1 = dashapp.panel_cell([dcc.Markdown(\"## row 3 col 1\")])\n",
    "    r3c2 = dashapp.panel_cell([dcc.Markdown(\"## row 3 col 2\")])\n",
    "    r3 = dashapp.multi_column_panel([r3c1,r3c2],child_class=None)\n",
    "\n",
    "    # all rows\n",
    "    rows = [r1,r2,r3]\n",
    "    all_rows = dashapp.multi_row_panel(rows,grid_template='1fr 4fr 1fr',parent_class='all_rows',child_class=None)\n",
    "    all_cols = dashapp.multi_column_panel([all_rows],parent_class=None,child_class=None)\n",
    "\n",
    "    dap.create_app(all_cols,app_title='example2',app_port=8804)\n",
    "    "
   ]
  },
  {
   "cell_type": "code",
   "execution_count": null,
   "metadata": {},
   "outputs": [],
   "source": []
  }
 ],
 "metadata": {
  "kernelspec": {
   "display_name": "Python 3",
   "language": "python",
   "name": "python3"
  },
  "language_info": {
   "codemirror_mode": {
    "name": "ipython",
    "version": 3
   },
   "file_extension": ".py",
   "mimetype": "text/x-python",
   "name": "python",
   "nbconvert_exporter": "python",
   "pygments_lexer": "ipython3",
   "version": "3.6.5"
  }
 },
 "nbformat": 4,
 "nbformat_minor": 4
}
