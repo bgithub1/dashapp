{
 "cells": [
  {
   "cell_type": "code",
   "execution_count": 1,
   "metadata": {},
   "outputs": [],
   "source": [
    "import sys,os\n",
    "if  not os.path.abspath('./') in sys.path:\n",
    "    sys.path.append(os.path.abspath('./'))\n",
    "if  not os.path.abspath('../') in sys.path:\n",
    "    sys.path.append(os.path.abspath('../'))\n",
    "\n",
    "# import dashapp\n",
    "import dashapp2 as dashapp\n",
    "# import dash\n",
    "import dash_html_components as html\n",
    "import dash_core_components as dcc\n",
    "import pandas as pd\n",
    "import pdb\n",
    "import copy\n",
    "pn = dashapp.pn\n",
    "pnnc = dashapp.pnnc"
   ]
  },
  {
   "cell_type": "markdown",
   "metadata": {},
   "source": [
    "### Show a simple example with 3 rows with varying columns in each row"
   ]
  },
  {
   "cell_type": "code",
   "execution_count": null,
   "metadata": {},
   "outputs": [],
   "source": []
  },
  {
   "cell_type": "code",
   "execution_count": 2,
   "metadata": {},
   "outputs": [],
   "source": [
    "# create some abbreviated names to dashapp methods\n",
    "dappc = dashapp.panel_cell\n",
    "dapnopc = dashapp.nopanel_cell\n",
    "mkd = dcc.Markdown\n",
    "dapmrp = dashapp.multi_row_panel\n",
    "dapmcp = dashapp.multi_column_panel\n",
    "\n",
    "# create multi_row_panel\n",
    "def rd(arr,template=None,pbc=None,pp=None,cp=None):\n",
    "    if cp is not None:\n",
    "        panel_arr = [cp(a) for a in arr]\n",
    "    else:\n",
    "        panel_arr = arr\n",
    "    t  = template if template is not None else ' '.join(['1fr' for _ in range(len(arr))])\n",
    "    ret = dapmrp(panel_arr,grid_template=t,panel_background_color=pbc,\n",
    "                parent_class=pp)\n",
    "    return ret\n",
    "\n",
    "# create multi_column_panel\n",
    "def cd(arr,template=None,pbc=None,pp=None,cp=None):\n",
    "    if cp is not None:\n",
    "        panel_arr = [cp(a) for a in arr]\n",
    "    else:\n",
    "        panel_arr = arr\n",
    "    t  = template if template is not None else ' '.join(['1fr' for _ in range(len(arr))])\n",
    "    ret = dapmcp(panel_arr,grid_template=t,panel_background_color=pbc,\n",
    "                parent_class=pp)\n",
    "    return ret"
   ]
  },
  {
   "cell_type": "code",
   "execution_count": 9,
   "metadata": {},
   "outputs": [
    {
     "name": "stderr",
     "output_type": "stream",
     "text": [
      "2020-09-01 08:33:31,759 - root - INFO - This app will run at the URL: http://127.0.0.1:8804\n"
     ]
    },
    {
     "name": "stdout",
     "output_type": "stream",
     "text": [
      "Dash is running on http://127.0.0.1:8804/\n",
      "\n",
      "Dash is running on http://127.0.0.1:8804/\n",
      "\n",
      "Dash is running on http://127.0.0.1:8804/\n",
      "\n",
      "Dash is running on http://127.0.0.1:8804/\n",
      "\n",
      "Dash is running on http://127.0.0.1:8804/\n",
      "\n"
     ]
    },
    {
     "name": "stderr",
     "output_type": "stream",
     "text": [
      "2020-09-01 08:33:31,761 - dashapp2 - INFO - Dash is running on http://127.0.0.1:8804/\n",
      "\n"
     ]
    },
    {
     "name": "stdout",
     "output_type": "stream",
     "text": [
      " Warning: This is a development server. Do not use app.run_server\n",
      " Warning: This is a development server. Do not use app.run_server\n",
      " Warning: This is a development server. Do not use app.run_server\n",
      " Warning: This is a development server. Do not use app.run_server\n",
      " Warning: This is a development server. Do not use app.run_server\n"
     ]
    },
    {
     "name": "stderr",
     "output_type": "stream",
     "text": [
      "2020-09-01 08:33:31,767 - dashapp2 - INFO -  Warning: This is a development server. Do not use app.run_server\n"
     ]
    },
    {
     "name": "stdout",
     "output_type": "stream",
     "text": [
      " in production, use a production WSGI server like gunicorn instead.\n",
      "\n",
      " in production, use a production WSGI server like gunicorn instead.\n",
      "\n",
      " in production, use a production WSGI server like gunicorn instead.\n",
      "\n",
      " in production, use a production WSGI server like gunicorn instead.\n",
      "\n",
      " in production, use a production WSGI server like gunicorn instead.\n",
      "\n"
     ]
    },
    {
     "name": "stderr",
     "output_type": "stream",
     "text": [
      "2020-09-01 08:33:31,775 - dashapp2 - INFO -  in production, use a production WSGI server like gunicorn instead.\n",
      "\n"
     ]
    },
    {
     "name": "stdout",
     "output_type": "stream",
     "text": [
      " * Serving Flask app \"dashapp2\" (lazy loading)\n",
      " * Environment: production\n",
      "\u001b[31m   WARNING: This is a development server. Do not use it in a production deployment.\u001b[0m\n",
      "\u001b[2m   Use a production WSGI server instead.\u001b[0m\n",
      " * Debug mode: off\n"
     ]
    },
    {
     "name": "stderr",
     "output_type": "stream",
     "text": [
      "2020-09-01 08:33:31,797 - werkzeug - INFO -  * Running on http://127.0.0.1:8804/ (Press CTRL+C to quit)\n",
      "2020-09-01 08:33:34,175 - werkzeug - INFO - 127.0.0.1 - - [01/Sep/2020 08:33:34] \"\u001b[37mGET / HTTP/1.1\u001b[0m\" 200 -\n",
      "2020-09-01 08:33:34,269 - werkzeug - INFO - 127.0.0.1 - - [01/Sep/2020 08:33:34] \"\u001b[37mGET /_dash-layout HTTP/1.1\u001b[0m\" 200 -\n",
      "2020-09-01 08:33:34,271 - werkzeug - INFO - 127.0.0.1 - - [01/Sep/2020 08:33:34] \"\u001b[37mGET /_dash-dependencies HTTP/1.1\u001b[0m\" 200 -\n",
      "2020-09-01 08:33:34,296 - werkzeug - INFO - 127.0.0.1 - - [01/Sep/2020 08:33:34] \"\u001b[37mGET /helloworld.html HTTP/1.1\u001b[0m\" 200 -\n",
      "2020-09-01 08:33:34,348 - werkzeug - INFO - 127.0.0.1 - - [01/Sep/2020 08:33:34] \"\u001b[37mGET /_dash-layout HTTP/1.1\u001b[0m\" 200 -\n",
      "2020-09-01 08:33:34,350 - werkzeug - INFO - 127.0.0.1 - - [01/Sep/2020 08:33:34] \"\u001b[37mGET /_dash-dependencies HTTP/1.1\u001b[0m\" 200 -\n",
      "2020-09-01 08:33:34,370 - werkzeug - INFO - 127.0.0.1 - - [01/Sep/2020 08:33:34] \"\u001b[37mGET /helloworld.html HTTP/1.1\u001b[0m\" 200 -\n",
      "2020-09-01 08:33:34,422 - werkzeug - INFO - 127.0.0.1 - - [01/Sep/2020 08:33:34] \"\u001b[37mGET /_dash-layout HTTP/1.1\u001b[0m\" 200 -\n",
      "2020-09-01 08:33:34,425 - werkzeug - INFO - 127.0.0.1 - - [01/Sep/2020 08:33:34] \"\u001b[37mGET /_dash-dependencies HTTP/1.1\u001b[0m\" 200 -\n"
     ]
    }
   ],
   "source": [
    "if __name__=='__main__':\n",
    "    dap = dashapp.DashApp()\n",
    "    # row 1\n",
    "    r1 = dappc([mkd(\"## row 1\")])\n",
    "    \n",
    "    # row 2 \n",
    "    r2c1 = rd(\n",
    "        [\n",
    "            mkd(\"### row 2 col 1 row 1\"),\n",
    "            mkd(\"### row 2 col 1 row 2\"),\n",
    "            mkd(\"### row 2 col 1 row 3\"),\n",
    "        ],\n",
    "        pbc='#A6B2E2',\n",
    "        cp=dapnopc\n",
    "    )\n",
    "    r2c2 = rd(\n",
    "        [\n",
    "            mkd(\"### row 2 col 2 row 1\"),\n",
    "            mkd(\"# row 2 col 2 row 2\"),\n",
    "        ],\n",
    "        cp=dappc,\n",
    "        template='3fr 1fr'\n",
    "    )\n",
    "    \n",
    "    r2 = cd([r2c1,r2c2],template='1fr 4fr')\n",
    "\n",
    "    r3 = cd([mkd(\"## row 3 col 1\"),mkd(\"## row 3 col 2\")],cp=dappc)\n",
    "\n",
    "    # all rows\n",
    "    all_rows = rd([r1,r2,r3],template='1fr 4fr 1fr',pp='all_rows')\n",
    "    all_cols = cd([all_rows])\n",
    "    dap.create_app(all_cols,app_title='example2',app_port=8804)\n",
    "    "
   ]
  },
  {
   "cell_type": "code",
   "execution_count": null,
   "metadata": {},
   "outputs": [],
   "source": []
  }
 ],
 "metadata": {
  "kernelspec": {
   "display_name": "Python 3",
   "language": "python",
   "name": "python3"
  },
  "language_info": {
   "codemirror_mode": {
    "name": "ipython",
    "version": 3
   },
   "file_extension": ".py",
   "mimetype": "text/x-python",
   "name": "python",
   "nbconvert_exporter": "python",
   "pygments_lexer": "ipython3",
   "version": "3.6.5"
  }
 },
 "nbformat": 4,
 "nbformat_minor": 4
}
