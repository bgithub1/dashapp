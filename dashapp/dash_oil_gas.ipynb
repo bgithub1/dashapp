{
 "cells": [
  {
   "cell_type": "markdown",
   "metadata": {},
   "source": [
    "## dash_oil_and_gas\n",
    "#### show the use of dashapp in building the Dash Oil and Gas Gallery app"
   ]
  },
  {
   "cell_type": "code",
   "execution_count": 1,
   "metadata": {},
   "outputs": [],
   "source": [
    "import sys,os\n",
    "if  not os.path.abspath('./') in sys.path:\n",
    "    sys.path.append(os.path.abspath('./'))\n",
    "if  not os.path.abspath('../') in sys.path:\n",
    "    sys.path.append(os.path.abspath('../'))\n",
    "\n",
    "import dashapp\n",
    "# import dash\n",
    "import dash_html_components as html\n",
    "import dash_core_components as dcc\n",
    "import pandas as pd\n",
    "import pdb\n",
    "import copy\n",
    "pn = dashapp.pn\n",
    "pnnc = dashapp.pnnc"
   ]
  },
  {
   "cell_type": "code",
   "execution_count": null,
   "metadata": {},
   "outputs": [],
   "source": []
  },
  {
   "cell_type": "markdown",
   "metadata": {},
   "source": [
    "### First define a url_base_pathname, used later in the app definition.\n",
    "The url_base_pathname is useful if you are accessing the app via something like an nginx proxy."
   ]
  },
  {
   "cell_type": "code",
   "execution_count": 2,
   "metadata": {},
   "outputs": [],
   "source": [
    "url_base_pathname = None\n",
    "# url_base_pathname = '/oilgas/'\n",
    "logger = dashapp.init_root_logger()"
   ]
  },
  {
   "cell_type": "markdown",
   "metadata": {},
   "source": [
    "### dash oil and gas"
   ]
  },
  {
   "cell_type": "markdown",
   "metadata": {},
   "source": [
    "#### Get Data"
   ]
  },
  {
   "cell_type": "code",
   "execution_count": 3,
   "metadata": {},
   "outputs": [],
   "source": [
    "df_well_info = pd.read_csv('oil_gas_data/df_well_info.csv',low_memory=False)\n",
    "df_well_production_by_year = pd.read_csv('oil_gas_data/df_well_production_by_year.csv')    \n",
    "\n",
    "df_well_status = df_well_info[['Well_Status','wstatus']].drop_duplicates().sort_values('Well_Status')\n",
    "df_well_status.index = list(range(len(df_well_status)))\n",
    "\n",
    "df_well_type = df_well_info[['Well_Type','wtype']].drop_duplicates().sort_values('Well_Type')\n",
    "df_well_type.index = list(range(len(df_well_type)))\n",
    "\n",
    "df_well_color = df_well_info[['Well_Type','wcolor']].drop_duplicates().sort_values('Well_Type')\n",
    "df_well_color.index = list(range(len(df_well_color)))\n",
    "\n",
    "well_status_options = [{\"label\": wt[1], \"value\": wt[0]} for wt in df_well_status.values]\n",
    "well_type_options = [{\"label\": wt[1], \"value\": wt[0]} for wt in df_well_type.values]\n",
    "well_color_options = [{\"label\": wt[1], \"value\": wt[0]} for wt in df_well_color.values]\n"
   ]
  },
  {
   "cell_type": "markdown",
   "metadata": {},
   "source": [
    "### Define a method to aggregate well data for panel and graph display"
   ]
  },
  {
   "cell_type": "code",
   "execution_count": 4,
   "metadata": {},
   "outputs": [],
   "source": [
    "def get_well_aggregates(df_in,year_array,well_status_list=None,well_type_list=None):\n",
    "    df_temp = df_in[(df_in.Year_Well_Completed>=year_array[0]) & (df_in.Year_Well_Completed<=year_array[1])]\n",
    "    df_ptemp = df_well_production_by_year[(df_well_production_by_year.year>=year_array[0])&(df_well_production_by_year.year<=year_array[1])]\n",
    "    df_ptemp = df_ptemp[df_ptemp.API_WellNo.isin(df_temp.API_WellNo.unique())]\n",
    "    if well_status_list is not None:\n",
    "        valid_status_ids = df1[df1.Well_Status.isin(well_status_list)].API_WellNo.values\n",
    "        df_ptemp = df_ptemp[df_ptemp.API_WellNo.isin(valid_status_ids)]\n",
    "    if well_type_list is not None:\n",
    "        valid_type_ids = df1[df1.Well_Type.isin(well_type_list)].API_WellNo.values\n",
    "        df_ptemp = df_ptemp[df_ptemp.API_WellNo.isin(valid_type_ids)]\n",
    "    wells = len(df_temp.API_WellNo.unique())\n",
    "    agg_data =  {\n",
    "        'wells':wells,\n",
    "        'gas':round(df_ptemp.gas.sum()/1000000,1),\n",
    "        'water':round(df_ptemp.water.sum()/1000000,1),\n",
    "        'oil':round(df_ptemp.oil.sum()/1000000,1)\n",
    "    }\n",
    "    return agg_data\n"
   ]
  },
  {
   "cell_type": "markdown",
   "metadata": {},
   "source": [
    "### Define Row 1"
   ]
  },
  {
   "cell_type": "code",
   "execution_count": 5,
   "metadata": {},
   "outputs": [],
   "source": [
    "def define_r1():\n",
    "# Define the static components\n",
    "    # ********************** plotly logo ****************************\n",
    "    imgfolder = '' if url_base_pathname is None else url_base_pathname\n",
    "    img_logo = html.Img(id='img_logo',src=imgfolder + \"/assets/dash-logo.png\",className='plogo')\n",
    "    # ********************** title div ********************************\n",
    "    title = html.Div(\n",
    "        [html.H3(\"New York Oil And Gas\",className='ogtitle'),\n",
    "         html.H5(\"Production Overview\",className='ogtitle')],id='title')\n",
    "    # *****You ************* link to plotly info ***********************\n",
    "    adiv = html.A([html.Button([\"Learn More\"],className='ogabutton')],id='adiv',href=\"https://plot.ly/dash/pricing\",className='adiv')\n",
    "    r1 = dashapp.multi_column_panel([img_logo,title,adiv],grid_template='1fr 4fr 1fr',\n",
    "                            parent_class=None,child_class=pnnc)\n",
    "\n",
    "    return r1\n"
   ]
  },
  {
   "cell_type": "markdown",
   "metadata": {},
   "source": [
    "## Define Row 2"
   ]
  },
  {
   "cell_type": "markdown",
   "metadata": {},
   "source": [
    "### Define Row 2 Column 1"
   ]
  },
  {
   "cell_type": "code",
   "execution_count": 6,
   "metadata": {},
   "outputs": [],
   "source": [
    "def define_r2c1():\n",
    "    slider = dashapp.make_slider(df_well_info,'yr_slider','Year_Well_Completed',className='oil_gas_r2_margin')\n",
    "    slider_div = html.Div([\n",
    "        'Filter by construction date (or select range in histogram):',\n",
    "        html.P(),slider],id='slider_div')\n",
    "    \n",
    "    # ********************* well status radio *****************************\n",
    "    df_radio_status = pd.DataFrame({'label':['All','Active only','Customize'],\n",
    "                                'value':['all','active','custom']})\n",
    "    radio_status = dashapp.make_radio(df_radio_status,'radio_status','value',label_column='label',\n",
    "                             current_value='all')\n",
    "    radio_status_div = html.Div([radio_status,'Filter by well status:',html.P()],\n",
    "                      id='radio_status_div',className='oil_gas_r2_margin')\n",
    "\n",
    "    # ********************* well status dropdown *****************************\n",
    "    dropdown_status = dashapp.make_dropdown(df_well_status,'dropdown_status',\n",
    "                                    'Well_Status',label_column='wstatus',\n",
    "                                    current_value = df_well_status.Well_Status.unique(),\n",
    "                                    multi=True)\n",
    "    \n",
    "    dropdown_status_div = html.Div(dropdown_status,className='oil_gas_d1_margin',id='dropdown_status_div')\n",
    "\n",
    "    # ********************* link well status radio to dropdown *****************************\n",
    "    def link_radio_status_dropdown_status_options_callback(radio_status):\n",
    "        if radio_status.lower()=='all':\n",
    "            ret = well_status_options\n",
    "        elif radio_status.lower()=='active':\n",
    "            ret = [wso for wso in well_status_options if wso['value']=='AC']\n",
    "        else:\n",
    "            ret = {}\n",
    "        return ret\n",
    "    link_radio_status_dropdown_status_options = dashapp.radio_to_dropdown_options_link(\n",
    "                    radio_status,\n",
    "                    dropdown_status,\n",
    "                    link_radio_status_dropdown_status_options_callback)\n",
    "    \n",
    "    lambda_rsds_value = lambda radio_value:[wso['value'] for wso in link_radio_status_dropdown_status_options_callback(radio_value)]\n",
    "    link_radio_status_dropdown_status_value_callback = lambda_rsds_value\n",
    "    link_radio_status_dropdown_status_value = dashapp.radio_to_dropdown_value_link(\n",
    "                    radio_status,\n",
    "                    dropdown_status,\n",
    "                    link_radio_status_dropdown_status_value_callback)\n",
    "    \n",
    "    # ********************* well type radio *****************************\n",
    "    df_radio_type = pd.DataFrame({'label':['All','Productive only','Customize'],\n",
    "                                'value':['all','productive','custom']})\n",
    "    radio_type = dashapp.make_radio(df_radio_type,'radio_type','value',label_column='label',\n",
    "                             current_value='all')\n",
    "    radio_type_div = html.Div([radio_type,'Filter by well status:',html.P()],\n",
    "                      id='radio_type_div',className='oil_gas_r2_margin')\n",
    "\n",
    "    # ********************* well type dropdown *****************************\n",
    "    dropdown_type = dashapp.make_dropdown(df_well_type,'dropdown_type',\n",
    "                                    'Well_Type',label_column='wtype',\n",
    "                                    current_value = df_well_type.Well_Type.unique(),\n",
    "                                    multi=True,className='oil_gas_d1_margin')\n",
    "    \n",
    "    dropdown_type_div = html.Div(dropdown_type,id='dropdown_type_div')\n",
    "    \n",
    "    # ********************* link well status radio to dropdown *****************************\n",
    "    def link_radio_type_dropdown_type_options_callback(radio_type):\n",
    "        if radio_type.lower()=='all':\n",
    "            ret = well_type_options\n",
    "        elif radio_type.lower()=='productive':\n",
    "            ret = [wto for wto in well_type_options if wto['value'] in [\"GD\", \"GE\", \"GW\", \"IG\", \"IW\", \"OD\", \"OE\", \"OW\"]]\n",
    "        else:\n",
    "            ret = {}\n",
    "        return ret\n",
    "    link_radio_type_dropdown_type_options = dashapp.radio_to_dropdown_options_link(\n",
    "                    radio_type,\n",
    "                    dropdown_type,\n",
    "                    link_radio_type_dropdown_type_options_callback)\n",
    "    \n",
    "    lambda_rtdt_value = lambda radio_value:[wso['value'] for wso in link_radio_type_dropdown_type_options_callback(radio_value)]\n",
    "    link_radio_type_dropdown_type_value_callback = lambda_rtdt_value\n",
    "    link_radio_type_dropdown_type_value = dashapp.radio_to_dropdown_value_link(\n",
    "                    radio_type,\n",
    "                    dropdown_type,\n",
    "                    link_radio_type_dropdown_type_value_callback)\n",
    "    \n",
    "#     link_radio_status_dropdown_status_options,link_radio_status_dropdown_status_value,\n",
    "#     link_radio_type_dropdown_type_options,link_radio_type_dropdown_type_value\n",
    "\n",
    "    \n",
    "    divs = [slider_div,radio_status_div,dropdown_status_div,radio_type_div,dropdown_type_div]\n",
    "    links = [link_radio_status_dropdown_status_options,link_radio_status_dropdown_status_value,\n",
    "            link_radio_type_dropdown_type_options,link_radio_type_dropdown_type_value]\n",
    "    return divs,links\n"
   ]
  },
  {
   "cell_type": "markdown",
   "metadata": {},
   "source": [
    "### Define Row 2 Column 2\n"
   ]
  },
  {
   "cell_type": "markdown",
   "metadata": {},
   "source": [
    "#### Define r2c2_store"
   ]
  },
  {
   "cell_type": "code",
   "execution_count": 7,
   "metadata": {},
   "outputs": [],
   "source": [
    "r2c2_store = dcc.Store(id='r2c2_store',data={})\n",
    "def _build_df_from_input_list(input_list,logger=None):\n",
    "    year_list = input_list[0]\n",
    "    year_low = int(str(year_list[0]))\n",
    "    year_high = int(str(year_list[1]))\n",
    "    df_temp = df_well_info[(df_well_info.Year_Well_Completed>=year_low) & (df_well_info.Year_Well_Completed<=year_high)]\n",
    "    status_list = input_list[1] \n",
    "    type_list = input_list[2]\n",
    "    try:\n",
    "        df_temp = df_temp[df_temp.Well_Status.isin(status_list)]\n",
    "        df_temp = df_temp[df_temp.Well_Type.isin(type_list)]\n",
    "    except Exception as e:\n",
    "        if logger is not None:\n",
    "            logger.warn(f'EXCEPTION: _build_main_data_dictionary {str(e)}')\n",
    "    return df_temp\n",
    "\n",
    "\n",
    "def build_link_r2c2_store(input_list):\n",
    "#     print(f\"build_link_r2c2_store input_list: {input_list}\")\n",
    "    year_list = input_list[0]\n",
    "    year_low = int(str(year_list[0]))\n",
    "    year_high = int(str(year_list[1]))\n",
    "    df_temp = _build_df_from_input_list(input_list,logger)\n",
    "    df_temp2 = df_temp[[\"API_WellNo\", \"Year_Well_Completed\"]].groupby(['Year_Well_Completed'],as_index=False).count()\n",
    "    #{'wells': 14628, 'gas': 865.4, 'water': 15.8, 'oil': 3.8}\n",
    "    aggs = get_well_aggregates(df_temp,[year_low,year_high])\n",
    "    ret = {\n",
    "        'data':df_temp2.to_dict('rows'),\n",
    "        'year_list':year_list,\n",
    "        'status_list':input_list[1],\n",
    "        'type_list':input_list[2],\n",
    "        'no_wells':f\"{aggs['wells']} No of\",\n",
    "        'gas_mcf':f\"{aggs['gas']}mcf\",\n",
    "        'oil_bbl':f\"{aggs['oil']}M bbl\",\n",
    "        'water_bbl':f\"{aggs['water']}M bbl\"\n",
    "    }\n",
    "    return [ret]\n",
    "link_r2c2_store = dashapp.DashLink(\n",
    "    [('yr_slider','value'),('dropdown_status','value'),('dropdown_type','value')],\n",
    "    [(r2c2_store,'data')],build_link_r2c2_store)\n"
   ]
  },
  {
   "cell_type": "markdown",
   "metadata": {},
   "source": [
    "#### Define Row 2 Column 2 Row 1"
   ]
  },
  {
   "cell_type": "code",
   "execution_count": 8,
   "metadata": {},
   "outputs": [],
   "source": [
    "def define_r2c2r1(r2c2_store):\n",
    "    r2c2r1_no_wells = html.Div(id='no_wells')\n",
    "    r2c2r1_gas_mcf = html.Div(id='gas_mcf')\n",
    "    r2c2r1_oil_bbl = html.Div(id='oil_bbl')\n",
    "    r2c2r1_water_bbl = html.Div(id='water_bbl')\n",
    "    # create an array of div id's that you will use when creating DashLink instances below\n",
    "    r2c2r1_panel_ids = ['no_wells','gas_mcf','oil_bbl','water_bbl']\n",
    "\n",
    "    def build_panel_link_closure(panel_id):\n",
    "        def build_panel_link(input_list):\n",
    "#             print(f'build_panel_link input_list: {input_list}')\n",
    "            r2c2_store = input_list[0]\n",
    "            if panel_id not in r2c2_store:\n",
    "                dashapp.stop_callback(f'build_panel_link no data for panel_id {panel_id} with data {input_list}',logger)        \n",
    "            ret = r2c2_store[panel_id]\n",
    "            return [ret]\n",
    "        return build_panel_link\n",
    "\n",
    "    # define array of links to store component, and the loop through r2c2r1_panel_ids to \n",
    "    #   create a DashLink instance for each panel (there are 4)\n",
    "    r2c2r1_links = []\n",
    "    for panel_id in r2c2r1_panel_ids:\n",
    "        r2c2r1_link = dashapp.DashLink(\n",
    "            [(r2c2_store,'data')],[(panel_id,'children')],\n",
    "            build_panel_link_closure(panel_id)\n",
    "        ) \n",
    "        r2c2r1_links.append(r2c2r1_link)\n",
    "\n",
    "\n",
    "    r2c2r1_wells_div = html.Div([r2c2r1_no_wells,html.P('Wells')],id='wells_div')\n",
    "    r2c2r1_gas_div = html.Div([r2c2r1_gas_mcf,html.P('Gas')],id='gas_div')\n",
    "    r2c2r1_oil_div = html.Div([r2c2r1_oil_bbl,html.P('Oil')],id='oil_div')\n",
    "    r2c2r1_water_div = html.Div([r2c2r1_water_bbl,html.P('Water')],id='water_div')\n",
    "    r2c2r1_divs = [r2c2r1_wells_div,r2c2r1_gas_div,\n",
    "                           r2c2r1_oil_div,r2c2r1_water_div,r2c2_store]\n",
    "    return r2c2r1_divs,r2c2r1_links\n"
   ]
  },
  {
   "cell_type": "markdown",
   "metadata": {},
   "source": [
    "#### Define Row 2 Column 2 Row 2 (*the graph of wells per year, and given the values from the dropdowns in r2c1*)"
   ]
  },
  {
   "cell_type": "code",
   "execution_count": 9,
   "metadata": {},
   "outputs": [],
   "source": [
    "def define_r2c2r2(r2c2_store):\n",
    "    def xygraph_fig(df_wells_per_year):\n",
    "        xyfig = dashapp.plotly_plot(\n",
    "            df_in=df_wells_per_year,\n",
    "            x_column='Year_Well_Completed',bar_plot=True,number_of_ticks_display=10,\n",
    "            plot_title='Completed Wells/Year')\n",
    "        return xyfig\n",
    "\n",
    "    df_wells_per_year = df_well_info[[\"API_WellNo\", \"Year_Well_Completed\"]].groupby(['Year_Well_Completed'],as_index=False).count()\n",
    "    init_fig = xygraph_fig(df_wells_per_year)\n",
    "    xygraph = dcc.Graph(id='xygraph',figure=init_fig)\n",
    "\n",
    "    # create the call back that will react to changes in r2c2_store, and modify the graph in r2c2r2\n",
    "    def build_link_store_xygraph(input_list):\n",
    "        r2c2_store = input_list[0]\n",
    "        if 'data' not in r2c2_store:\n",
    "            dashapp.stop_callback(f'build_link_store_xygraph no DataFrame for graph {input_list}',logger)        \n",
    "        dict_df = r2c2_store['data']\n",
    "        df_wells_per_year = dashapp.make_df(dict_df)\n",
    "        xyfig = xygraph_fig(df_wells_per_year)\n",
    "        return [xyfig]\n",
    "    link_store_xygraph = dashapp.DashLink([(r2c2_store,'data')],[(xygraph,'figure')],build_link_store_xygraph)\n",
    "    return xygraph,link_store_xygraph"
   ]
  },
  {
   "cell_type": "markdown",
   "metadata": {},
   "source": [
    "#### Define Row 3  (*the maps of wells per year, and given the values from the dropdowns in r2c1*)"
   ]
  },
  {
   "cell_type": "code",
   "execution_count": 10,
   "metadata": {},
   "outputs": [],
   "source": [
    "# ************* Build row 3: the map and pie charts ********************************\n",
    "mapbox_access_token = \"pk.eyJ1IjoiamFja2x1byIsImEiOiJjajNlcnh3MzEwMHZtMzNueGw3NWw5ZXF5In0.fk8k06T96Ml9CLGgKmk81w\"\n",
    "layout = dict(\n",
    "    autosize=True,\n",
    "    automargin=True,\n",
    "    margin=dict(l=30, r=30, b=20, t=40),\n",
    "    hovermode=\"closest\",\n",
    "    plot_bgcolor=\"#F9F9F9\",\n",
    "    paper_bgcolor=\"#F9F9F9\",\n",
    "    legend=dict(font=dict(size=10), orientation=\"h\"),\n",
    "    title=\"Satellite Overview\",\n",
    "    mapbox=dict(\n",
    "        accesstoken=mapbox_access_token,\n",
    "        style=\"light\",\n",
    "        center=dict(lon=-78.05, lat=42.54),\n",
    "        zoom=7,\n",
    "    ),\n",
    ")\n",
    "\n",
    "def define_r3c1():\n",
    "\n",
    "    def _create_map_from_df(df_in):\n",
    "        traces = []\n",
    "        for wtype, dfff in df_in.groupby(\"wtype\"):\n",
    "            trace = dict(\n",
    "                type=\"scattermapbox\",\n",
    "                lon=dfff[\"Surface_Longitude\"],\n",
    "                lat=dfff[\"Surface_latitude\"],\n",
    "                text=dfff[\"Well_Name\"],\n",
    "                customdata=dfff[\"API_WellNo\"],\n",
    "                name=wtype,\n",
    "                marker=dict(size=4, opacity=0.6),\n",
    "            )\n",
    "            traces.append(trace)\n",
    "\n",
    "        figure = dict(data=traces, layout=layout)\n",
    "        return figure\n",
    "\n",
    "\n",
    "    def build_map_figure(input_list):\n",
    "        r2c2_store = input_list[0]\n",
    "        if ('year_list' not in r2c2_store) or ('status_list' not in r2c2_store) or ('type_list' not in r2c2_store):\n",
    "            dashapp.stop_callback(f'build_link_store_xygraph insufficient data for graph {input_list}',logger)        \n",
    "        yl = r2c2_store['year_list']\n",
    "        sl = r2c2_store['status_list']\n",
    "        tl = r2c2_store['type_list']\n",
    "        original_input_list = [yl,sl,tl]\n",
    "        dff = _build_df_from_input_list(original_input_list)\n",
    "        fig = _create_map_from_df(dff)\n",
    "        return [fig]\n",
    "    init_map_figure = _create_map_from_df(df_well_info)\n",
    "    mapgraph = dcc.Graph(id='mapgraph',figure=init_map_figure)\n",
    "    link_mapgraph = dashapp.DashLink(\n",
    "#         [(slider,'value'),(dropdown_status,'value'),(dropdown_type,'value')],\n",
    "        [(r2c2_store,'data')],\n",
    "        [(mapgraph,'figure')],build_map_figure)\n",
    "    \n",
    "    return mapgraph,link_mapgraph\n",
    "\n",
    "def define_r3c2():\n",
    "    def _create_pie_figure_from_df(dff,years):\n",
    "        layout_pie = copy.deepcopy(layout)\n",
    "        selected = dff[\"API_WellNo\"].values\n",
    "\n",
    "        year_low = years[0]\n",
    "        year_high = years[1]\n",
    "        aggs = get_well_aggregates(dff,[year_low,year_high])\n",
    "\n",
    "        index = aggs['wells']\n",
    "        gas = aggs['gas']\n",
    "        oil = aggs['oil']\n",
    "        water = aggs['water']\n",
    "\n",
    "        # create a DataFrame that holds counts of wells by type, sorted by wtype\n",
    "        df_well_count = dff[['wtype','wcolor']].sort_values(\"wtype\").groupby([\"wtype\"],as_index=False).count()\n",
    "        df_well_count = df_well_count.rename(columns={'wcolor':'type_count'})\n",
    "\n",
    "        # Create a DataFrame that holds unique combinations of type and color, sorted by wtype\n",
    "        df_well_color = dff[['wtype','wcolor']].drop_duplicates().sort_values('wtype')    \n",
    "\n",
    "        data = [\n",
    "            dict(\n",
    "                type=\"pie\",\n",
    "                labels=[\"Gas\", \"Oil\", \"Water\"],\n",
    "                values=[gas, oil, water],\n",
    "                name=\"Production Breakdown\",\n",
    "                text=[\n",
    "                    \"Total Gas Produced (mcf)\",\n",
    "                    \"Total Oil Produced (bbl)\",\n",
    "                    \"Total Water Produced (bbl)\",\n",
    "                ],\n",
    "                hoverinfo=\"text+value+percent\",\n",
    "                textinfo=\"label+percent+name\",\n",
    "                hole=0.5,\n",
    "                marker=dict(colors=[\"#fac1b7\", \"#a9bb95\", \"#92d8d8\"]),\n",
    "                domain={\"x\": [0, 0.45], \"y\": [0.2, 0.8]},\n",
    "            ),\n",
    "            dict(\n",
    "                type=\"pie\",\n",
    "                labels=df_well_count.wtype.values,  # this works b/c it's sorted by wtype\n",
    "                values=df_well_count.type_count.values, # this works b/c it's sorted by wtype\n",
    "                name=\"Well Type Breakdown\",\n",
    "                hoverinfo=\"label+text+value+percent\",\n",
    "                textinfo=\"label+percent+name\",\n",
    "                hole=0.5,\n",
    "                marker=dict(colors=df_well_color.wcolor.values), # this works b/c it's sorted by wtype\n",
    "                domain={\"x\": [0.55, 1], \"y\": [0.2, 0.8]},\n",
    "            ),\n",
    "        ]\n",
    "        layout_pie[\"title\"] = \"Production Summary: {} to {}\".format(\n",
    "            year_low, year_high\n",
    "        )\n",
    "        layout_pie[\"font\"] = dict(color=\"#777777\")\n",
    "        layout_pie[\"legend\"] = dict(\n",
    "            font=dict(color=\"#CCCCCC\", size=\"10\"), orientation=\"h\", bgcolor=\"rgba(0,0,0,0)\"\n",
    "        )\n",
    "\n",
    "        figure = dict(data=data, layout=layout_pie)\n",
    "        return figure\n",
    "\n",
    "    def build_pie_figure(input_list):\n",
    "        r2c2_store = input_list[0]\n",
    "        if ('year_list' not in r2c2_store) or ('status_list' not in r2c2_store) or ('type_list' not in r2c2_store):\n",
    "            dashapp.stop_callback(f'build_pie_figure insufficient data for graph {input_list}',logger)        \n",
    "        yl = r2c2_store['year_list']\n",
    "        sl = r2c2_store['status_list']\n",
    "        tl = r2c2_store['type_list']\n",
    "        original_input_list = [yl,sl,tl]\n",
    "        dff = _build_df_from_input_list(original_input_list)\n",
    "        fig = _create_pie_figure_from_df(dff,yl)\n",
    "        return [fig]\n",
    "\n",
    "    # piegraph = dgc.FigureComponent('piegraph',None,_create_pie_figure,input_tuple_list=input_component_list)\n",
    "    init_years = [df_well_info.Year_Well_Completed.min(), df_well_info.Year_Well_Completed.max()]\n",
    "    init_pie_figure = _create_pie_figure_from_df(df_well_info,init_years)\n",
    "    piegraph = dcc.Graph(id='piegraph',figure=init_pie_figure)\n",
    "    link_piegraph = dashapp.DashLink(\n",
    "#         [(slider,'value'),(dropdown_status,'value'),(dropdown_type,'value')],\n",
    "        [(r2c2_store,'data')],\n",
    "        [(piegraph,'figure')],build_pie_figure)\n",
    "    \n",
    "    return piegraph,link_piegraph\n",
    "\n",
    "def define_r3():\n",
    "    mapgraph,link_mapgraph = define_r3c1()\n",
    "    piegraph,link_piegraph = define_r3c2()\n",
    "    chart_divs = [mapgraph,piegraph]\n",
    "    chart_links = [link_mapgraph,link_piegraph]\n",
    "    return chart_divs,chart_links\n",
    "\n"
   ]
  },
  {
   "cell_type": "code",
   "execution_count": null,
   "metadata": {},
   "outputs": [],
   "source": []
  },
  {
   "cell_type": "markdown",
   "metadata": {},
   "source": [
    "## Define row 4, which displays the main DataFrame"
   ]
  },
  {
   "cell_type": "code",
   "execution_count": 11,
   "metadata": {},
   "outputs": [
    {
     "name": "stderr",
     "output_type": "stream",
     "text": [
      "2020-05-27 07:16:08,677 - root - DEBUG - dt_well_info entering create_dt_div\n",
      "2020-05-27 07:16:08,712 - root - DEBUG - dt_well_info exiting create_dt_div\n"
     ]
    }
   ],
   "source": [
    "import importlib\n",
    "importlib.reload(dashapp)\n",
    "dt_title = html.Div(\n",
    "        [html.P(),html.H3(\"All Data\"),html.P()])\n",
    "r4_title = dashapp.multi_column_panel([dt_title],child_class=pn,parent_class=None)\n",
    "init_display_columns = ['API_WellNo','Cnty','Completion','Well_Name','wstatus','wtype',\n",
    "                       'Year_Well_Completed','Month_Well_Completed']\n",
    "init_display_columns = df_well_info.columns.values\n",
    "df_wi_init = df_well_info[init_display_columns]#.iloc[0:20]\n",
    "\n",
    "dt_well_info,link_for_dynamic_paging = dashapp.make_dashtable('dt_well_info',df_in=df_wi_init,filtering=True)\n",
    "r4_dt = dashapp.nopanel_cell(dt_well_info)\n"
   ]
  },
  {
   "cell_type": "markdown",
   "metadata": {},
   "source": [
    "## Put all of the rows together"
   ]
  },
  {
   "cell_type": "code",
   "execution_count": 12,
   "metadata": {
    "scrolled": true
   },
   "outputs": [
    {
     "name": "stderr",
     "output_type": "stream",
     "text": [
      "2020-05-27 07:16:09,990 - root - INFO - This app will run at the URL: http://127.0.0.1:8801\n"
     ]
    },
    {
     "name": "stdout",
     "output_type": "stream",
     "text": [
      " * Serving Flask app \"dashapp\" (lazy loading)\n",
      " * Environment: production\n",
      "\u001b[31m   WARNING: This is a development server. Do not use it in a production deployment.\u001b[0m\n",
      "\u001b[2m   Use a production WSGI server instead.\u001b[0m\n",
      " * Debug mode: off\n"
     ]
    },
    {
     "name": "stderr",
     "output_type": "stream",
     "text": [
      "2020-05-27 07:16:10,005 - werkzeug - INFO -  * Running on http://127.0.0.1:8801/ (Press CTRL+C to quit)\n",
      "2020-05-27 07:16:11,996 - werkzeug - INFO - 127.0.0.1 - - [27/May/2020 07:16:11] \"\u001b[37mGET / HTTP/1.1\u001b[0m\" 200 -\n",
      "2020-05-27 07:16:12,058 - werkzeug - INFO - 127.0.0.1 - - [27/May/2020 07:16:12] \"\u001b[37mGET /assets/custom.css?m=1583299996.0 HTTP/1.1\u001b[0m\" 200 -\n"
     ]
    },
    {
     "name": "stdout",
     "output_type": "stream",
     "text": [
      "serving -- package: dash_renderer[1.3.0] resource: polyfill@7.8.7.min.js => location: ['/Users/bperlman1/Virtualenvs3/dashrisk5/lib/python3.6/site-packages/dash_renderer']\n"
     ]
    },
    {
     "name": "stderr",
     "output_type": "stream",
     "text": [
      "2020-05-27 07:16:12,066 - werkzeug - INFO - 127.0.0.1 - - [27/May/2020 07:16:12] \"\u001b[37mGET /assets/dashapp_example_3_rows.css?m=1585932241.0 HTTP/1.1\u001b[0m\" 200 -\n"
     ]
    },
    {
     "name": "stdout",
     "output_type": "stream",
     "text": [
      "serving -- package: dash_renderer[1.3.0] resource: react@16.13.0.min.js => location: ['/Users/bperlman1/Virtualenvs3/dashrisk5/lib/python3.6/site-packages/dash_renderer']\n"
     ]
    },
    {
     "name": "stderr",
     "output_type": "stream",
     "text": [
      "2020-05-27 07:16:12,070 - werkzeug - INFO - 127.0.0.1 - - [27/May/2020 07:16:12] \"\u001b[37mGET /assets/styles.css?m=1589206170.0 HTTP/1.1\u001b[0m\" 200 -\n"
     ]
    },
    {
     "name": "stdout",
     "output_type": "stream",
     "text": [
      "serving -- package: dash_renderer[1.3.0] resource: react-dom@16.13.0.min.js => location: ['/Users/bperlman1/Virtualenvs3/dashrisk5/lib/python3.6/site-packages/dash_renderer']\n",
      "serving -- package: dash_renderer[1.3.0] resource: prop-types@15.7.2.min.js => location: ['/Users/bperlman1/Virtualenvs3/dashrisk5/lib/python3.6/site-packages/dash_renderer']\n"
     ]
    },
    {
     "name": "stderr",
     "output_type": "stream",
     "text": [
      "2020-05-27 07:16:12,064 - dashapp - DEBUG - serving -- package: dash_renderer[1.3.0] resource: polyfill@7.8.7.min.js => location: ['/Users/bperlman1/Virtualenvs3/dashrisk5/lib/python3.6/site-packages/dash_renderer']\n",
      "2020-05-27 07:16:12,071 - dashapp - DEBUG - serving -- package: dash_renderer[1.3.0] resource: react@16.13.0.min.js => location: ['/Users/bperlman1/Virtualenvs3/dashrisk5/lib/python3.6/site-packages/dash_renderer']\n"
     ]
    },
    {
     "name": "stdout",
     "output_type": "stream",
     "text": [
      "serving -- package: dash_table[4.6.2] resource: bundle.js => location: ['/Users/bperlman1/Virtualenvs3/dashrisk5/lib/python3.6/site-packages/dash_table']\n"
     ]
    },
    {
     "name": "stderr",
     "output_type": "stream",
     "text": [
      "2020-05-27 07:16:12,076 - dashapp - DEBUG - serving -- package: dash_renderer[1.3.0] resource: react-dom@16.13.0.min.js => location: ['/Users/bperlman1/Virtualenvs3/dashrisk5/lib/python3.6/site-packages/dash_renderer']\n"
     ]
    },
    {
     "name": "stdout",
     "output_type": "stream",
     "text": [
      "serving -- package: dash_html_components[1.0.3] resource: dash_html_components.min.js => location: ['/Users/bperlman1/Virtualenvs3/dashrisk5/lib/python3.6/site-packages/dash_html_components']\n"
     ]
    },
    {
     "name": "stderr",
     "output_type": "stream",
     "text": [
      "2020-05-27 07:16:12,078 - dashapp - DEBUG - serving -- package: dash_renderer[1.3.0] resource: prop-types@15.7.2.min.js => location: ['/Users/bperlman1/Virtualenvs3/dashrisk5/lib/python3.6/site-packages/dash_renderer']\n",
      "2020-05-27 07:16:12,083 - dashapp - DEBUG - serving -- package: dash_table[4.6.2] resource: bundle.js => location: ['/Users/bperlman1/Virtualenvs3/dashrisk5/lib/python3.6/site-packages/dash_table']\n",
      "2020-05-27 07:16:12,086 - dashapp - DEBUG - serving -- package: dash_html_components[1.0.3] resource: dash_html_components.min.js => location: ['/Users/bperlman1/Virtualenvs3/dashrisk5/lib/python3.6/site-packages/dash_html_components']\n",
      "2020-05-27 07:16:12,095 - werkzeug - INFO - 127.0.0.1 - - [27/May/2020 07:16:12] \"\u001b[37mGET /_dash-component-suites/dash_renderer/react@16.v1_3_0m1588634869.13.0.min.js HTTP/1.1\u001b[0m\" 200 -\n",
      "2020-05-27 07:16:12,095 - werkzeug - INFO - 127.0.0.1 - - [27/May/2020 07:16:12] \"\u001b[37mGET /_dash-component-suites/dash_renderer/prop-types@15.v1_3_0m1588634869.7.2.min.js HTTP/1.1\u001b[0m\" 200 -\n"
     ]
    },
    {
     "name": "stdout",
     "output_type": "stream",
     "text": [
      "serving -- package: dash_core_components[1.9.0] resource: dash_core_components.min.js => location: ['/Users/bperlman1/Virtualenvs3/dashrisk5/lib/python3.6/site-packages/dash_core_components']\n"
     ]
    },
    {
     "name": "stderr",
     "output_type": "stream",
     "text": [
      "2020-05-27 07:16:12,097 - werkzeug - INFO - 127.0.0.1 - - [27/May/2020 07:16:12] \"\u001b[37mGET /_dash-component-suites/dash_renderer/polyfill@7.v1_3_0m1588634869.8.7.min.js HTTP/1.1\u001b[0m\" 200 -\n",
      "2020-05-27 07:16:12,099 - werkzeug - INFO - 127.0.0.1 - - [27/May/2020 07:16:12] \"\u001b[37mGET /_dash-component-suites/dash_table/bundle.v4_6_2m1588634869.js HTTP/1.1\u001b[0m\" 200 -\n"
     ]
    },
    {
     "name": "stdout",
     "output_type": "stream",
     "text": [
      "serving -- package: dash_core_components[1.9.0] resource: dash_core_components-shared.js => location: ['/Users/bperlman1/Virtualenvs3/dashrisk5/lib/python3.6/site-packages/dash_core_components']\n"
     ]
    },
    {
     "name": "stderr",
     "output_type": "stream",
     "text": [
      "2020-05-27 07:16:12,115 - werkzeug - INFO - 127.0.0.1 - - [27/May/2020 07:16:12] \"\u001b[37mGET /_dash-component-suites/dash_renderer/react-dom@16.v1_3_0m1588634869.13.0.min.js HTTP/1.1\u001b[0m\" 200 -\n"
     ]
    },
    {
     "name": "stdout",
     "output_type": "stream",
     "text": [
      "serving -- package: dash_renderer[1.3.0] resource: dash_renderer.min.js => location: ['/Users/bperlman1/Virtualenvs3/dashrisk5/lib/python3.6/site-packages/dash_renderer']\n"
     ]
    },
    {
     "name": "stderr",
     "output_type": "stream",
     "text": [
      "2020-05-27 07:16:12,116 - werkzeug - INFO - 127.0.0.1 - - [27/May/2020 07:16:12] \"\u001b[37mGET /_dash-component-suites/dash_html_components/dash_html_components.v1_0_3m1588634869.min.js HTTP/1.1\u001b[0m\" 200 -\n",
      "2020-05-27 07:16:12,114 - dashapp - DEBUG - serving -- package: dash_core_components[1.9.0] resource: dash_core_components.min.js => location: ['/Users/bperlman1/Virtualenvs3/dashrisk5/lib/python3.6/site-packages/dash_core_components']\n",
      "2020-05-27 07:16:12,130 - dashapp - DEBUG - serving -- package: dash_core_components[1.9.0] resource: dash_core_components-shared.js => location: ['/Users/bperlman1/Virtualenvs3/dashrisk5/lib/python3.6/site-packages/dash_core_components']\n",
      "2020-05-27 07:16:12,137 - dashapp - DEBUG - serving -- package: dash_renderer[1.3.0] resource: dash_renderer.min.js => location: ['/Users/bperlman1/Virtualenvs3/dashrisk5/lib/python3.6/site-packages/dash_renderer']\n",
      "2020-05-27 07:16:12,145 - werkzeug - INFO - 127.0.0.1 - - [27/May/2020 07:16:12] \"\u001b[37mGET /_dash-component-suites/dash_core_components/dash_core_components-shared.v1_9_0m1588634869.js HTTP/1.1\u001b[0m\" 200 -\n",
      "2020-05-27 07:16:12,151 - werkzeug - INFO - 127.0.0.1 - - [27/May/2020 07:16:12] \"\u001b[37mGET /_dash-component-suites/dash_core_components/dash_core_components.v1_9_0m1588634869.min.js HTTP/1.1\u001b[0m\" 200 -\n",
      "2020-05-27 07:16:12,153 - werkzeug - INFO - 127.0.0.1 - - [27/May/2020 07:16:12] \"\u001b[37mGET /_dash-component-suites/dash_renderer/dash_renderer.v1_3_0m1588634869.min.js HTTP/1.1\u001b[0m\" 200 -\n",
      "2020-05-27 07:16:12,468 - werkzeug - INFO - 127.0.0.1 - - [27/May/2020 07:16:12] \"\u001b[37mGET /_dash-dependencies HTTP/1.1\u001b[0m\" 200 -\n",
      "2020-05-27 07:16:12,502 - werkzeug - INFO - 127.0.0.1 - - [27/May/2020 07:16:12] \"\u001b[37mGET /_favicon.ico?v=1.11.0 HTTP/1.1\u001b[0m\" 200 -\n",
      "2020-05-27 07:16:12,549 - werkzeug - INFO - 127.0.0.1 - - [27/May/2020 07:16:12] \"\u001b[37mGET /_dash-layout HTTP/1.1\u001b[0m\" 200 -\n"
     ]
    },
    {
     "name": "stdout",
     "output_type": "stream",
     "text": [
      "serving -- package: dash_core_components[1.9.0] resource: async-slider.js => location: ['/Users/bperlman1/Virtualenvs3/dashrisk5/lib/python3.6/site-packages/dash_core_components']\n"
     ]
    },
    {
     "name": "stderr",
     "output_type": "stream",
     "text": [
      "2020-05-27 07:16:12,602 - dashapp - DEBUG - serving -- package: dash_core_components[1.9.0] resource: async-slider.js => location: ['/Users/bperlman1/Virtualenvs3/dashrisk5/lib/python3.6/site-packages/dash_core_components']\n"
     ]
    },
    {
     "name": "stdout",
     "output_type": "stream",
     "text": [
      "serving -- package: dash_core_components[1.9.0] resource: async-dropdown.js => location: ['/Users/bperlman1/Virtualenvs3/dashrisk5/lib/python3.6/site-packages/dash_core_components']\n"
     ]
    },
    {
     "name": "stderr",
     "output_type": "stream",
     "text": [
      "2020-05-27 07:16:12,611 - werkzeug - INFO - 127.0.0.1 - - [27/May/2020 07:16:12] \"\u001b[37mGET /_dash-component-suites/dash_core_components/async-slider.v1_9_1m1586525729.js HTTP/1.1\u001b[0m\" 200 -\n",
      "2020-05-27 07:16:12,611 - dashapp - DEBUG - serving -- package: dash_core_components[1.9.0] resource: async-dropdown.js => location: ['/Users/bperlman1/Virtualenvs3/dashrisk5/lib/python3.6/site-packages/dash_core_components']\n",
      "2020-05-27 07:16:12,623 - werkzeug - INFO - 127.0.0.1 - - [27/May/2020 07:16:12] \"\u001b[37mGET /_dash-component-suites/dash_core_components/async-dropdown.v1_9_1m1586525729.js HTTP/1.1\u001b[0m\" 200 -\n"
     ]
    },
    {
     "name": "stdout",
     "output_type": "stream",
     "text": [
      "serving -- package: dash_core_components[1.9.0] resource: async-plotlyjs.js => location: ['/Users/bperlman1/Virtualenvs3/dashrisk5/lib/python3.6/site-packages/dash_core_components']\n"
     ]
    },
    {
     "name": "stderr",
     "output_type": "stream",
     "text": [
      "2020-05-27 07:16:12,642 - dashapp - DEBUG - serving -- package: dash_core_components[1.9.0] resource: async-plotlyjs.js => location: ['/Users/bperlman1/Virtualenvs3/dashrisk5/lib/python3.6/site-packages/dash_core_components']\n"
     ]
    },
    {
     "name": "stdout",
     "output_type": "stream",
     "text": [
      "serving -- package: dash_core_components[1.9.0] resource: async-graph.js => location: ['/Users/bperlman1/Virtualenvs3/dashrisk5/lib/python3.6/site-packages/dash_core_components']\n"
     ]
    },
    {
     "name": "stderr",
     "output_type": "stream",
     "text": [
      "2020-05-27 07:16:12,643 - dashapp - DEBUG - serving -- package: dash_core_components[1.9.0] resource: async-graph.js => location: ['/Users/bperlman1/Virtualenvs3/dashrisk5/lib/python3.6/site-packages/dash_core_components']\n",
      "2020-05-27 07:16:12,650 - werkzeug - INFO - 127.0.0.1 - - [27/May/2020 07:16:12] \"\u001b[37mGET /_dash-component-suites/dash_core_components/async-graph.v1_9_1m1586525729.js HTTP/1.1\u001b[0m\" 200 -\n"
     ]
    },
    {
     "name": "stdout",
     "output_type": "stream",
     "text": [
      "serving -- package: dash_table[4.6.2] resource: async-table.js => location: ['/Users/bperlman1/Virtualenvs3/dashrisk5/lib/python3.6/site-packages/dash_table']\n"
     ]
    },
    {
     "name": "stderr",
     "output_type": "stream",
     "text": [
      "2020-05-27 07:16:12,676 - dashapp - DEBUG - serving -- package: dash_table[4.6.2] resource: async-table.js => location: ['/Users/bperlman1/Virtualenvs3/dashrisk5/lib/python3.6/site-packages/dash_table']\n",
      "2020-05-27 07:16:12,704 - werkzeug - INFO - 127.0.0.1 - - [27/May/2020 07:16:12] \"\u001b[37mPOST /_dash-update-component HTTP/1.1\u001b[0m\" 200 -\n",
      "2020-05-27 07:16:12,708 - werkzeug - INFO - 127.0.0.1 - - [27/May/2020 07:16:12] \"\u001b[37mGET /_dash-component-suites/dash_table/async-table.v4_6_2m1585774180.js HTTP/1.1\u001b[0m\" 200 -\n",
      "2020-05-27 07:16:12,709 - werkzeug - INFO - 127.0.0.1 - - [27/May/2020 07:16:12] \"\u001b[37mGET /assets/dash-logo.png HTTP/1.1\u001b[0m\" 200 -\n",
      "2020-05-27 07:16:12,710 - werkzeug - INFO - 127.0.0.1 - - [27/May/2020 07:16:12] \"\u001b[37mPOST /_dash-update-component HTTP/1.1\u001b[0m\" 200 -\n",
      "2020-05-27 07:16:12,716 - werkzeug - INFO - 127.0.0.1 - - [27/May/2020 07:16:12] \"\u001b[37mPOST /_dash-update-component HTTP/1.1\u001b[0m\" 200 -\n",
      "2020-05-27 07:16:12,718 - werkzeug - INFO - 127.0.0.1 - - [27/May/2020 07:16:12] \"\u001b[37mPOST /_dash-update-component HTTP/1.1\u001b[0m\" 200 -\n",
      "2020-05-27 07:16:12,750 - werkzeug - INFO - 127.0.0.1 - - [27/May/2020 07:16:12] \"\u001b[37mPOST /_dash-update-component HTTP/1.1\u001b[0m\" 200 -\n"
     ]
    },
    {
     "name": "stdout",
     "output_type": "stream",
     "text": [
      "_dash_table_update_paging_closure: page_current:0 page_size: 20\n"
     ]
    },
    {
     "name": "stderr",
     "output_type": "stream",
     "text": [
      "2020-05-27 07:16:12,827 - werkzeug - INFO - 127.0.0.1 - - [27/May/2020 07:16:12] \"\u001b[37mGET /_dash-component-suites/dash_core_components/async-plotlyjs.v1_9_1m1586525729.js HTTP/1.1\u001b[0m\" 200 -\n",
      "2020-05-27 07:16:12,992 - werkzeug - INFO - 127.0.0.1 - - [27/May/2020 07:16:12] \"\u001b[37mPOST /_dash-update-component HTTP/1.1\u001b[0m\" 200 -\n",
      "2020-05-27 07:16:14,209 - werkzeug - INFO - 127.0.0.1 - - [27/May/2020 07:16:14] \"\u001b[37mPOST /_dash-update-component HTTP/1.1\u001b[0m\" 200 -\n",
      "2020-05-27 07:16:14,211 - werkzeug - INFO - 127.0.0.1 - - [27/May/2020 07:16:14] \"\u001b[37mPOST /_dash-update-component HTTP/1.1\u001b[0m\" 200 -\n",
      "2020-05-27 07:16:14,217 - werkzeug - INFO - 127.0.0.1 - - [27/May/2020 07:16:14] \"\u001b[37mPOST /_dash-update-component HTTP/1.1\u001b[0m\" 200 -\n",
      "2020-05-27 07:16:14,219 - werkzeug - INFO - 127.0.0.1 - - [27/May/2020 07:16:14] \"\u001b[37mPOST /_dash-update-component HTTP/1.1\u001b[0m\" 200 -\n",
      "2020-05-27 07:16:14,705 - werkzeug - INFO - 127.0.0.1 - - [27/May/2020 07:16:14] \"\u001b[37mPOST /_dash-update-component HTTP/1.1\u001b[0m\" 200 -\n",
      "2020-05-27 07:16:14,748 - werkzeug - INFO - 127.0.0.1 - - [27/May/2020 07:16:14] \"\u001b[37mPOST /_dash-update-component HTTP/1.1\u001b[0m\" 200 -\n",
      "2020-05-27 07:16:14,777 - werkzeug - INFO - 127.0.0.1 - - [27/May/2020 07:16:14] \"\u001b[37mPOST /_dash-update-component HTTP/1.1\u001b[0m\" 200 -\n",
      "2020-05-27 07:16:37,309 - werkzeug - INFO - 127.0.0.1 - - [27/May/2020 07:16:37] \"\u001b[37mPOST /_dash-update-component HTTP/1.1\u001b[0m\" 200 -\n"
     ]
    },
    {
     "name": "stdout",
     "output_type": "stream",
     "text": [
      "_dash_table_update_paging_closure: page_current:1 page_size: 20\n"
     ]
    },
    {
     "name": "stderr",
     "output_type": "stream",
     "text": [
      "2020-05-27 07:16:40,800 - werkzeug - INFO - 127.0.0.1 - - [27/May/2020 07:16:40] \"\u001b[37mPOST /_dash-update-component HTTP/1.1\u001b[0m\" 200 -\n"
     ]
    },
    {
     "name": "stdout",
     "output_type": "stream",
     "text": [
      "_dash_table_update_paging_closure: page_current:2 page_size: 20\n"
     ]
    },
    {
     "name": "stderr",
     "output_type": "stream",
     "text": [
      "2020-05-27 07:16:43,656 - werkzeug - INFO - 127.0.0.1 - - [27/May/2020 07:16:43] \"\u001b[37mPOST /_dash-update-component HTTP/1.1\u001b[0m\" 200 -\n"
     ]
    },
    {
     "name": "stdout",
     "output_type": "stream",
     "text": [
      "_dash_table_update_paging_closure: page_current:1 page_size: 20\n"
     ]
    },
    {
     "name": "stderr",
     "output_type": "stream",
     "text": [
      "2020-05-27 07:16:45,768 - werkzeug - INFO - 127.0.0.1 - - [27/May/2020 07:16:45] \"\u001b[37mPOST /_dash-update-component HTTP/1.1\u001b[0m\" 200 -\n"
     ]
    },
    {
     "name": "stdout",
     "output_type": "stream",
     "text": [
      "_dash_table_update_paging_closure: page_current:0 page_size: 20\n"
     ]
    }
   ],
   "source": [
    "if __name__=='__main__':\n",
    "    dap = dashapp.DashApp()\n",
    "    # define title row\n",
    "    r1 = define_r1()\n",
    "    \n",
    "    # define r2c1 with slider 2 radios and 2 dropdowns\n",
    "    r2c1_divs,r2c1_links = define_r2c1()\n",
    "    r2c1 = dashapp.multi_row_panel(r2c1_divs,child_class=pnnc,parent_class='oil_gas_r2c1')\n",
    "    \n",
    "    # define r2c2r1, which has the well count panels\n",
    "    r2c2r1_divs,r2c2r1_links = define_r2c2r1(r2c2_store)\n",
    "    r2c2r1 = dashapp.multi_column_panel(r2c2r1_divs,grid_template=' '.join(['1fr']*4),\n",
    "            parent_class=None,child_class=pn)\n",
    "    \n",
    "    # define the graph below the count panels in r2c2r2\n",
    "    xygraph,link_store_xygraph = define_r2c2r2(r2c2_store)\n",
    "    r2c2r2 = dashapp.multi_column_panel([xygraph],grid_template='1fr')\n",
    "    \n",
    "    # combine r2c2r1 and r2c2r2\n",
    "    r2c2 = dashapp.multi_row_panel([r2c2r1,r2c2r2],grid_template='1fr 6fr',child_class=None)\n",
    "    \n",
    "    # combine r2c1 and r2c2\n",
    "    r2 = dashapp.multi_column_panel([r2c1,r2c2],grid_template='35fr 85fr',parent_class=None,child_class=None)    \n",
    "    \n",
    "    # define row 3, the map and pie graphs\n",
    "    chart_divs,chart_links = define_r3()\n",
    "    r3 = dashapp.multi_column_panel(chart_divs,grid_template='1fr 1fr',parent_class=None, child_class = None)\n",
    "    \n",
    "    # define row 4, which holds dashtable\n",
    "    r4 = dashapp.multi_row_panel([r4_title,r4_dt],grid_template='1fr 20fr',child_class=None)\n",
    "    # combine all rows\n",
    "    rows = [r1,r2,r3,r4]\n",
    "    # combine all links\n",
    "    links = r2c1_links+r2c2r1_links+[link_r2c2_store,link_store_xygraph,link_for_dynamic_paging]+chart_links\n",
    "    # merge all rows into a single panel\n",
    "    all_cols = dashapp.multi_row_panel(rows,grid_template='5fr 45fr',parent_class=None,child_class=None)\n",
    "    # add the links to the DashApp instance\n",
    "    dap.add_links(links)\n",
    "    # run the app\n",
    "    dap.create_app(all_cols,app_port=8801,app_title='Dash Oil Gas')\n",
    "    "
   ]
  },
  {
   "cell_type": "code",
   "execution_count": 13,
   "metadata": {},
   "outputs": [],
   "source": [
    "# !jupyter nbconvert --to script dash_oil_gas.ipynb"
   ]
  },
  {
   "cell_type": "code",
   "execution_count": null,
   "metadata": {},
   "outputs": [],
   "source": []
  }
 ],
 "metadata": {
  "kernelspec": {
   "display_name": "Python 3",
   "language": "python",
   "name": "python3"
  },
  "language_info": {
   "codemirror_mode": {
    "name": "ipython",
    "version": 3
   },
   "file_extension": ".py",
   "mimetype": "text/x-python",
   "name": "python",
   "nbconvert_exporter": "python",
   "pygments_lexer": "ipython3",
   "version": "3.6.5"
  }
 },
 "nbformat": 4,
 "nbformat_minor": 4
}
